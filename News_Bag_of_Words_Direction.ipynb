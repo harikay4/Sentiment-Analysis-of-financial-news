{
  "nbformat": 4,
  "nbformat_minor": 0,
  "metadata": {
    "colab": {
      "name": "Upload_2_BOW_Direction.ipynb",
      "provenance": [],
      "collapsed_sections": []
    },
    "kernelspec": {
      "name": "python3",
      "display_name": "Python 3"
    }
  },
  "cells": [
    {
      "cell_type": "code",
      "metadata": {
        "id": "YzVHPnxhx6-b",
        "colab_type": "code",
        "colab": {}
      },
      "source": [
        "#Label the data\n",
        "import pandas as pd\n",
        "import numpy as np\n",
        "\n",
        "y= pd.read_csv(\"/content/Labels.csv\")\n",
        "#Volatility\n",
        "y['log_returns'] = y['Close'].rolling(window=2).apply(lambda x: np.log(x.iloc[1]/x.iloc[0]))\n",
        "y['variance'] = y['log_returns'].rolling(window=10).var() # ==> Variance calculation \n",
        "y['variance'].fillna(0, inplace=True)\n",
        "# Direction of the market\n",
        "y['market_direction'] = y['Close'].rolling(window=2).apply(lambda x: 1 if x.iloc[1] >= x.iloc[0] else 0)\n",
        "y['vol_direction'] = y['Close'].rolling(window=2).apply(lambda x: 1 if x.iloc[1] >= x.iloc[0] else 0)\n",
        " \n",
        "y['market_direction'].fillna(0, inplace=True)\n",
        "y['vol_direction'].fillna(0, inplace=True)\n",
        "# Labelling\n",
        "y_Volatility = y.reset_index()['variance'] *1000\n",
        "y_Direction = y.reset_index()['market_direction']\n",
        "y_vol_Direction = y.reset_index()['vol_direction']"
      ],
      "execution_count": null,
      "outputs": []
    },
    {
      "cell_type": "code",
      "metadata": {
        "id": "nsrWKy6YzD4i",
        "colab_type": "code",
        "colab": {
          "base_uri": "https://localhost:8080/",
          "height": 51
        },
        "outputId": "ab7489a1-878c-40e5-d10d-33ad3016f830"
      },
      "source": [
        "# Text data pre-processing\n",
        "import nltk \n",
        "from nltk.corpus import stopwords\n",
        "from nltk import stem\n",
        "nltk.download('stopwords')\n",
        "\n",
        "news_data =pd.read_csv(\"/content/Combined_News_DJIA.csv\")\n",
        "x= news_data.drop(['Label','Date'], axis=1)\n",
        "x.columns = [str(c) for c in range(25)]\n",
        "\n",
        "for i in x.columns:\n",
        "    df = x[i].str.strip()     \n",
        "    df = df.str.replace(' ', '_')   \n",
        "    df= df.str.replace(r'b\\'', '')\n",
        "    df= df.str.replace(r'b\\\"', '')    \n",
        "    df = df.str.replace(r\"[^0-9a-zA-Z\\_]+\", \"\")\n",
        "    df = df.str.replace('_+', ' ')  \n",
        "    x[i]= df.str.lower()\n",
        "\n",
        "x[\"combined_news\"] = x.apply(lambda x: ''.join(str(x.values)), axis=1)\n",
        "stopwords = nltk.corpus.stopwords.words('english')\n",
        "ps = stem.PorterStemmer()\n",
        "\n",
        "def clean_stem_stopWords(line: str ):\n",
        "  return ' '.join(ps.stem(word) for word in line.split() if not word in stopwords)\n",
        "x[\"combined_news\"] = x[\"combined_news\"].apply(lambda x: clean_stem_stopWords(x))"
      ],
      "execution_count": null,
      "outputs": [
        {
          "output_type": "stream",
          "text": [
            "[nltk_data] Downloading package stopwords to /root/nltk_data...\n",
            "[nltk_data]   Unzipping corpora/stopwords.zip.\n"
          ],
          "name": "stdout"
        }
      ]
    },
    {
      "cell_type": "code",
      "metadata": {
        "id": "PVu9bYSi2jsZ",
        "colab_type": "code",
        "colab": {
          "base_uri": "https://localhost:8080/",
          "height": 296
        },
        "outputId": "1f878cc0-976e-4ccc-fb23-cb43749de724"
      },
      "source": [
        "# Print the distribution of the sequence lengths\n",
        "seq_len = [len(i.split()) for i in x[\"combined_news\"]]\n",
        "from matplotlib import pyplot as plt\n",
        "print(len(seq_len))\n",
        "plt.hist(pd.Series(seq_len),bins = 50)\n",
        "plt.xlabel(\"Number of words in a sequence\")\n",
        "plt.ylabel(\"Count of sequences\")\n",
        "\n",
        "plt.show()"
      ],
      "execution_count": null,
      "outputs": [
        {
          "output_type": "stream",
          "text": [
            "1989\n"
          ],
          "name": "stdout"
        },
        {
          "output_type": "display_data",
          "data": {
            "image/png": "[encoded data removed]",
            "text/plain": [
              "<Figure size 432x288 with 1 Axes>"
            ]
          },
          "metadata": {
            "tags": [],
            "needs_background": "light"
          }
        }
      ]
    },
    {
      "cell_type": "code",
      "metadata": {
        "id": "1I7KRtgG2kv1",
        "colab_type": "code",
        "colab": {
          "base_uri": "https://localhost:8080/",
          "height": 34
        },
        "outputId": "f27d2bd9-8915-4d05-b8b0-fdb9f60676fb"
      },
      "source": [
        "# simple tokenizer and padding\n",
        "from keras.preprocessing.text import Tokenizer\n",
        "from keras.preprocessing.sequence import pad_sequences\n",
        "\n",
        "MAX_SEQUENCE_LENGTH = 350\n",
        "MAX_NUM_WORDS = 10000\n",
        "\n",
        "tokenizer = Tokenizer(num_words=MAX_NUM_WORDS)\n",
        "tokenizer.fit_on_texts(x[\"combined_news\"])\n",
        "data = tokenizer.texts_to_sequences(x[\"combined_news\"])\n",
        "data = pad_sequences(data, maxlen=MAX_SEQUENCE_LENGTH, padding='post')\n",
        "print(data.shape)"
      ],
      "execution_count": null,
      "outputs": [
        {
          "output_type": "stream",
          "text": [
            "(1989, 350)\n"
          ],
          "name": "stdout"
        }
      ]
    },
    {
      "cell_type": "code",
      "metadata": {
        "id": "5Tov9N-Z4hM0",
        "colab_type": "code",
        "colab": {
          "base_uri": "https://localhost:8080/",
          "height": 34
        },
        "outputId": "66b37cb6-60f7-4021-fe5e-f6f12c237fae"
      },
      "source": [
        "data[0].shape"
      ],
      "execution_count": null,
      "outputs": [
        {
          "output_type": "execute_result",
          "data": {
            "text/plain": [
              "(350,)"
            ]
          },
          "metadata": {
            "tags": []
          },
          "execution_count": 6
        }
      ]
    },
    {
      "cell_type": "code",
      "metadata": {
        "id": "hX2nLZIT4Cb5",
        "colab_type": "code",
        "colab": {
          "base_uri": "https://localhost:8080/",
          "height": 34
        },
        "outputId": "4378a65c-706e-4e32-a3c9-6ca076dcb0b1"
      },
      "source": [
        "# BOW\n",
        "from sklearn.feature_extraction.text import CountVectorizer\n",
        "from keras.preprocessing.sequence import pad_sequences\n",
        "\n",
        "MAX_NUM_WORDS = 10000 # number of features\n",
        "\n",
        "countvector=CountVectorizer(ngram_range=(2,2), stop_words='english',max_features=MAX_NUM_WORDS)\n",
        "traindataset=countvector.fit_transform(x[\"combined_news\"])\n",
        "\n",
        "print(traindataset.shape)\n"
      ],
      "execution_count": null,
      "outputs": [
        {
          "output_type": "stream",
          "text": [
            "(1989, 10000)\n"
          ],
          "name": "stdout"
        }
      ]
    },
    {
      "cell_type": "code",
      "metadata": {
        "id": "xn-mJQdH6b7q",
        "colab_type": "code",
        "colab": {}
      },
      "source": [
        "from sklearn.preprocessing import StandardScaler\n",
        "from sklearn.decomposition import PCA\n",
        "\n",
        "#scaler\n",
        "sc_X = StandardScaler()\n",
        "X = sc_X.fit_transform(traindataset.toarray())\n",
        "\n",
        "# PCA\n",
        "pca=PCA(n_components=50)\n",
        "X_pca = pca.fit_transform(X)"
      ],
      "execution_count": null,
      "outputs": []
    },
    {
      "cell_type": "code",
      "metadata": {
        "id": "7kYzhMGo4Dhb",
        "colab_type": "code",
        "colab": {}
      },
      "source": [
        "# choose right objective\n",
        "y= y_vol_Direction\n",
        "\n",
        "# Splitting the data:\n",
        "num_validation_samples = 100\n",
        "x_train = X_pca[:-num_validation_samples]\n",
        "x_val = X_pca[-num_validation_samples:]\n",
        "y_train = y[:-num_validation_samples]\n",
        "y_val = y[-num_validation_samples:]"
      ],
      "execution_count": null,
      "outputs": []
    },
    {
      "cell_type": "code",
      "metadata": {
        "id": "my6kkYo4ubBY",
        "colab_type": "code",
        "colab": {
          "base_uri": "https://localhost:8080/",
          "height": 51
        },
        "outputId": "357c6fc9-5f3d-47c5-a2a4-3fb0a89da0a5"
      },
      "source": [
        "from sklearn.linear_model import LogisticRegression\n",
        "from sklearn.ensemble import RandomForestClassifier\n",
        "from sklearn.model_selection import KFold, cross_val_score\n",
        "from matplotlib import pyplot as plt\n",
        "from sklearn.svm import SVC\n",
        "\n",
        "# select the model\n",
        "#model= LogisticRegression()\n",
        "model = SVC(kernel='rbf', max_iter=150)\n",
        "#model = RandomForestClassifier(n_estimators=200,criterion='entropy')\n",
        "\n",
        "#Cross validation\n",
        "cv = KFold(n_splits=10, random_state=1, shuffle=True)\n",
        "scores = cross_val_score(model, X, y, scoring='accuracy', cv=cv, n_jobs=-1)\n",
        "#Show box plot of K-fold validation accuracy\n",
        "\n",
        "print(\"mean accuracy:\", np.mean(scores))\n",
        "print(\"standard error:\", np.std(scores))\n",
        "\n",
        "#plt.boxplot(scores)"
      ],
      "execution_count": null,
      "outputs": [
        {
          "output_type": "stream",
          "text": [
            "mean accuracy: 0.5314019592914064\n",
            "standard error: 0.032324948517269185\n"
          ],
          "name": "stdout"
        }
      ]
    },
    {
      "cell_type": "code",
      "metadata": {
        "id": "WUSdYyLOSl4B",
        "colab_type": "code",
        "colab": {
          "base_uri": "https://localhost:8080/",
          "height": 279
        },
        "outputId": "22e8e3bd-42a5-4de5-8d21-58792fa8a31e"
      },
      "source": [
        "# Compare Prediction results on train + validation data\n",
        "plt.plot( y , marker='.', label=\"true\")\n",
        "plt.plot( np.append(y_train_pred,y_pred), 'r', label=\"prediction\")\n",
        "plt.ylabel('Value')\n",
        "plt.xlabel('Time Step')\n",
        "#plt.ylim(0,5)\n",
        "plt.legend()\n",
        "plt.show();"
      ],
      "execution_count": null,
      "outputs": [
        {
          "output_type": "display_data",
          "data": {
            "image/png": "[encoded data removed]",
            "text/plain": [
              "<Figure size 432x288 with 1 Axes>"
            ]
          },
          "metadata": {
            "tags": [],
            "needs_background": "light"
          }
        }
      ]
    },
    {
      "cell_type": "code",
      "metadata": {
        "id": "yTJiGp2QQZjv",
        "colab_type": "code",
        "colab": {}
      },
      "source": [
        "# MLP\n",
        "from keras.models import Sequential\n",
        "from keras.layers import Dense, Embedding, BatchNormalization, Dropout\n",
        "\n",
        "def train_predict_MLP_model(x_train, y_train):\n",
        "\n",
        "\n",
        "  input_shape = ( 50,)\n",
        "\n",
        "  # Create the model\n",
        "  model = Sequential()\n",
        "  model.add(Dense(50, input_shape=input_shape, activation='relu'))\n",
        "  model.add(Dropout(0.2))\n",
        "  model.add(Dense(10,  activation='relu'))\n",
        "  model.add(Dropout(0.2))\n",
        "\n",
        "  # binary_crossentropy and sigmoid activation function for classification problem.\n",
        "  model.add(Dense(1, activation='sigmoid'))\n",
        "  model.compile(loss='binary_crossentropy', optimizer='adam', metrics=['accuracy'])\n",
        "\n",
        "  #fit the model and statistics are stored in history for analysis\n",
        "  history = model.fit(x_train, y_train, epochs=20, batch_size=10, verbose=1, validation_split=0.2)\n",
        "  return model\n"
      ],
      "execution_count": null,
      "outputs": []
    },
    {
      "cell_type": "code",
      "metadata": {
        "id": "YkBaJr6TbQNv",
        "colab_type": "code",
        "colab": {}
      },
      "source": [
        "from sklearn.metrics import accuracy_score\n",
        "\n",
        "trains = []\n",
        "tests = []\n",
        "cv = KFold(n_splits=6, shuffle=False)\n",
        "for train_index, test_index in cv.split(X_pca):\n",
        "    X_train, X_test, y_train, y_test = np.array(X_pca)[train_index], np.array(X_pca)[test_index], np.array(y)[train_index], np.array(y)[test_index]\n",
        "    \n",
        "    model = train_predict_MLP_model(X_train, y_train)\n",
        "    #loss1, accuracy1 = model.evaluate(X_train, y_train)\n",
        "    loss2, accuracy2 = model.evaluate(X_test, y_test)\n",
        "    #print(model.metrics_names, accuracy1)\n",
        "    #print(model.metrics_names, accuracy2)\n",
        "    #trains.append(accuracy1) # add  squared=True for RMSE\n",
        "    tests.append(accuracy2)\n",
        "\n",
        "#print(\" TRAIN mean score with std error:\", np.mean(trains), np.std(trains))\n",
        "print(\" TEST mean score with std error:\", np.mean(tests), np.std(tests))"
      ],
      "execution_count": null,
      "outputs": []
    },
    {
      "cell_type": "code",
      "metadata": {
        "id": "VHgZK2R0TyeU",
        "colab_type": "code",
        "colab": {
          "base_uri": "https://localhost:8080/",
          "height": 557
        },
        "outputId": "c1141c99-4d4e-45ab-9bc5-f7cc9a75c2c2"
      },
      "source": [
        "# Results with simple MLP... if CV last model is saved\n",
        "y_pred= model.predict(x_val)\n",
        "\n",
        "from matplotlib import pyplot as plt\n",
        "plt.plot(history.history['loss'])\n",
        "plt.plot(history.history['val_loss'])\n",
        "plt.title('model loss')\n",
        "plt.ylabel('loss')\n",
        "plt.xlabel('epoch')\n",
        "plt.ylim(0,0.005)\n",
        "plt.legend(['train', 'validation'], loc='upper right')\n",
        "plt.savefig('Price_MLP_val_2.png')\n",
        "plt.show()\n",
        "\n",
        "plt.plot(np.arange(len(y_train), len(y_train) + len(y_val)), y_val, marker='.', label=\"true\")\n",
        "plt.plot(np.arange(len(y_train), len(y_train) + len(y_val)), y_pred, 'r', label=\"prediction\")\n",
        "plt.ylabel('Value')\n",
        "plt.xlabel('Time Step')\n",
        "#plt.ylim(-.001,0.001)\n",
        "plt.savefig(\"Price_MLP_2.png\")\n",
        "plt.legend()\n",
        "plt.show();"
      ],
      "execution_count": null,
      "outputs": [
        {
          "output_type": "display_data",
          "data": {
            "image/png": "[encoded data removed]",
            "text/plain": [
              "<Figure size 432x288 with 1 Axes>"
            ]
          },
          "metadata": {
            "tags": [],
            "needs_background": "light"
          }
        },
        {
          "output_type": "display_data",
          "data": {
            "image/png": "[encoded data removed]",
            "text/plain": [
              "<Figure size 432x288 with 1 Axes>"
            ]
          },
          "metadata": {
            "tags": [],
            "needs_background": "light"
          }
        }
      ]
    },
    {
      "cell_type": "code",
      "metadata": {
        "id": "iOGsGCk8VmeM",
        "colab_type": "code",
        "colab": {}
      },
      "source": [
        "# Convert the data shape into 3-Dimensional for LSTM\n",
        "\n",
        "x_train =x_train.reshape(x_train.shape[0],x_train.shape[1] , 1)\n",
        "x_val =x_val.reshape(x_val.shape[0],x_val.shape[1] , 1)\n",
        "x_train.shape"
      ],
      "execution_count": null,
      "outputs": []
    },
    {
      "cell_type": "code",
      "metadata": {
        "id": "Pd3q2xEjVJL5",
        "colab_type": "code",
        "colab": {
          "base_uri": "https://localhost:8080/",
          "height": 1000
        },
        "outputId": "8e31a410-43df-455f-c0c8-98e8028bd228"
      },
      "source": [
        "#LSTM\n",
        "\n",
        "from keras.models import Sequential\n",
        "from keras.layers import Dense, Embedding, BatchNormalization, Dropout, LSTM\n",
        "from sklearn.metrics import accuracy_score\n",
        "\n",
        "def train_predict_LSTM_model(x_train, y_train ):\n",
        "\n",
        "  \n",
        "  input_shape = ( 50,1)\n",
        "\n",
        "  # Create the model\n",
        "  model = Sequential()\n",
        "  model.add(LSTM(30, dropout=0.15, activation ='relu', input_shape=input_shape))\n",
        "  model.add(Dense(1, activation='sigmoid'))\n",
        "  model.compile(loss='binary_crossentropy', optimizer='adam', metrics=['accuracy'])\n",
        "\n",
        "  #fit the model and statistics are stored in history for analysis\n",
        "  history = model.fit(x_train, y_train, epochs=20, batch_size=10, verbose=1, validation_split=0.2)\n",
        "\n",
        "  #Results with LSTM\n",
        "  return model\n",
        "\n",
        "\n",
        "trains = []\n",
        "tests = []\n",
        "cv = KFold(n_splits=5, shuffle=False)\n",
        "for train_index, test_index in cv.split(X_pca):\n",
        "    X_train, X_test, y_train, y_test = np.array(X_pca)[train_index], np.array(X_pca)[test_index], np.array(y)[train_index], np.array(y)[test_index]\n",
        "    #reshape for LSTM\n",
        "    X_train =X_train.reshape(X_train.shape[0],X_train.shape[1] , 1)\n",
        "    X_test =X_test.reshape(X_test.shape[0],X_test.shape[1] , 1)\n",
        "    #Get the trained model\n",
        "    model = train_predict_LSTM_model(X_train, y_train)\n",
        "    #loss1, accuracy1 = model.evaluate(X_train, y_train)\n",
        "    loss2, accuracy2 = model.evaluate(X_test, y_test)\n",
        "    #print(model.metrics_names, accuracy1)\n",
        "    #print(model.metrics_names, accuracy2)\n",
        "    #trains.append(accuracy1) # add  squared=True for RMSE\n",
        "    tests.append(accuracy2)\n",
        "\n",
        "#print(\" TRAIN mean score with std error:\", np.mean(trains), np.var(trains))\n",
        "print(\" TEST mean score with std error:\", np.mean(tests), np.var(tests))"
      ],
      "execution_count": null,
      "outputs": [
        {
          "output_type": "stream",
          "text": [
            "Epoch 1/20\n",
            "128/128 [==============================] - 3s 20ms/step - loss: 0.6903 - accuracy: 0.5299 - val_loss: 0.6976 - val_accuracy: 0.5141\n",
            "Epoch 2/20\n",
            "128/128 [==============================] - 3s 25ms/step - loss: 0.6899 - accuracy: 0.5369 - val_loss: 0.7010 - val_accuracy: 0.5141\n",
            "Epoch 3/20\n",
            "128/128 [==============================] - 4s 28ms/step - loss: 0.6873 - accuracy: 0.5472 - val_loss: 0.7026 - val_accuracy: 0.5141\n",
            "Epoch 4/20\n",
            "128/128 [==============================] - 3s 20ms/step - loss: 0.6886 - accuracy: 0.5338 - val_loss: 0.7097 - val_accuracy: 0.5172\n",
            "Epoch 5/20\n",
            "128/128 [==============================] - 3s 20ms/step - loss: 0.6912 - accuracy: 0.5401 - val_loss: 0.6995 - val_accuracy: 0.5172\n",
            "Epoch 6/20\n",
            "128/128 [==============================] - 3s 26ms/step - loss: 0.6883 - accuracy: 0.5472 - val_loss: 0.6961 - val_accuracy: 0.5235\n",
            "Epoch 7/20\n",
            "128/128 [==============================] - 3s 26ms/step - loss: 0.6889 - accuracy: 0.5440 - val_loss: 0.6993 - val_accuracy: 0.5172\n",
            "Epoch 8/20\n",
            "128/128 [==============================] - 3s 24ms/step - loss: 0.6870 - accuracy: 0.5472 - val_loss: 0.7001 - val_accuracy: 0.5172\n",
            "Epoch 9/20\n",
            "128/128 [==============================] - 3s 21ms/step - loss: 0.6891 - accuracy: 0.5448 - val_loss: 0.6978 - val_accuracy: 0.5172\n",
            "Epoch 10/20\n",
            "128/128 [==============================] - 3s 23ms/step - loss: 0.6883 - accuracy: 0.5377 - val_loss: 0.7031 - val_accuracy: 0.5172\n",
            "Epoch 11/20\n",
            "128/128 [==============================] - 3s 23ms/step - loss: 0.6874 - accuracy: 0.5432 - val_loss: 0.6997 - val_accuracy: 0.5172\n",
            "Epoch 12/20\n",
            "128/128 [==============================] - 3s 22ms/step - loss: 0.6868 - accuracy: 0.5432 - val_loss: 0.6956 - val_accuracy: 0.5235\n",
            "Epoch 13/20\n",
            "128/128 [==============================] - 3s 20ms/step - loss: 1.0309 - accuracy: 0.5385 - val_loss: 0.6953 - val_accuracy: 0.5204\n",
            "Epoch 14/20\n",
            "128/128 [==============================] - 2s 18ms/step - loss: 0.8645 - accuracy: 0.5480 - val_loss: 0.6949 - val_accuracy: 0.5141\n",
            "Epoch 15/20\n",
            "128/128 [==============================] - 2s 18ms/step - loss: 0.6863 - accuracy: 0.5464 - val_loss: 0.6953 - val_accuracy: 0.5172\n",
            "Epoch 16/20\n",
            "128/128 [==============================] - 2s 19ms/step - loss: 0.6879 - accuracy: 0.5456 - val_loss: 0.6959 - val_accuracy: 0.5141\n",
            "Epoch 17/20\n",
            "128/128 [==============================] - 3s 20ms/step - loss: 0.6865 - accuracy: 0.5440 - val_loss: 0.6965 - val_accuracy: 0.5141\n",
            "Epoch 18/20\n",
            "128/128 [==============================] - 3s 21ms/step - loss: 0.6857 - accuracy: 0.5456 - val_loss: 0.6967 - val_accuracy: 0.5172\n",
            "Epoch 19/20\n",
            "128/128 [==============================] - 2s 19ms/step - loss: 0.6864 - accuracy: 0.5456 - val_loss: 0.6966 - val_accuracy: 0.5172\n",
            "Epoch 20/20\n",
            "128/128 [==============================] - 2s 19ms/step - loss: 1.2687 - accuracy: 0.5448 - val_loss: 0.6948 - val_accuracy: 0.5172\n",
            "13/13 [==============================] - 0s 5ms/step - loss: 0.6914 - accuracy: 0.5251\n",
            "Epoch 1/20\n",
            "128/128 [==============================] - 3s 20ms/step - loss: 0.6977 - accuracy: 0.4937 - val_loss: 0.6943 - val_accuracy: 0.5204\n",
            "Epoch 2/20\n",
            "128/128 [==============================] - 2s 19ms/step - loss: 0.6934 - accuracy: 0.5267 - val_loss: 0.6964 - val_accuracy: 0.5141\n",
            "Epoch 3/20\n",
            "128/128 [==============================] - 2s 18ms/step - loss: 0.6913 - accuracy: 0.5299 - val_loss: 0.6961 - val_accuracy: 0.5141\n",
            "Epoch 4/20\n",
            "128/128 [==============================] - 2s 19ms/step - loss: 0.6902 - accuracy: 0.5338 - val_loss: 0.6948 - val_accuracy: 0.5172\n",
            "Epoch 5/20\n",
            "128/128 [==============================] - 2s 19ms/step - loss: 0.6908 - accuracy: 0.5314 - val_loss: 0.6961 - val_accuracy: 0.5235\n",
            "Epoch 6/20\n",
            "128/128 [==============================] - 2s 18ms/step - loss: 0.6898 - accuracy: 0.5354 - val_loss: 0.6962 - val_accuracy: 0.5235\n",
            "Epoch 7/20\n",
            "128/128 [==============================] - 2s 19ms/step - loss: 0.6892 - accuracy: 0.5346 - val_loss: 0.6988 - val_accuracy: 0.5172\n",
            "Epoch 8/20\n",
            "128/128 [==============================] - 2s 19ms/step - loss: 0.6900 - accuracy: 0.5314 - val_loss: 0.6945 - val_accuracy: 0.5235\n",
            "Epoch 9/20\n",
            "128/128 [==============================] - 2s 19ms/step - loss: 0.6898 - accuracy: 0.5354 - val_loss: 0.6949 - val_accuracy: 0.5235\n",
            "Epoch 10/20\n",
            "128/128 [==============================] - 2s 19ms/step - loss: 0.6892 - accuracy: 0.5314 - val_loss: 0.6938 - val_accuracy: 0.5361\n",
            "Epoch 11/20\n",
            "128/128 [==============================] - 2s 19ms/step - loss: 0.6882 - accuracy: 0.5330 - val_loss: 0.6977 - val_accuracy: 0.5204\n",
            "Epoch 12/20\n",
            "128/128 [==============================] - 2s 19ms/step - loss: 0.6893 - accuracy: 0.5267 - val_loss: 0.6940 - val_accuracy: 0.5329\n",
            "Epoch 13/20\n",
            "128/128 [==============================] - 2s 18ms/step - loss: 0.6894 - accuracy: 0.5252 - val_loss: 0.6939 - val_accuracy: 0.5392\n",
            "Epoch 14/20\n",
            "128/128 [==============================] - 2s 19ms/step - loss: 0.6898 - accuracy: 0.5283 - val_loss: 0.6950 - val_accuracy: 0.5204\n",
            "Epoch 15/20\n",
            "128/128 [==============================] - 3s 20ms/step - loss: 0.6864 - accuracy: 0.5299 - val_loss: 0.6988 - val_accuracy: 0.5172\n",
            "Epoch 16/20\n",
            "128/128 [==============================] - 2s 18ms/step - loss: 0.6868 - accuracy: 0.5362 - val_loss: 0.6935 - val_accuracy: 0.5172\n",
            "Epoch 17/20\n",
            "128/128 [==============================] - 2s 18ms/step - loss: 0.6886 - accuracy: 0.5165 - val_loss: 0.6991 - val_accuracy: 0.5141\n",
            "Epoch 18/20\n",
            "128/128 [==============================] - 2s 18ms/step - loss: 0.6880 - accuracy: 0.5338 - val_loss: 0.6982 - val_accuracy: 0.5204\n",
            "Epoch 19/20\n",
            "128/128 [==============================] - 2s 18ms/step - loss: 0.6888 - accuracy: 0.5369 - val_loss: 0.6983 - val_accuracy: 0.5141\n",
            "Epoch 20/20\n",
            "128/128 [==============================] - 2s 19ms/step - loss: 0.6877 - accuracy: 0.5417 - val_loss: 0.7010 - val_accuracy: 0.5172\n",
            "13/13 [==============================] - 0s 5ms/step - loss: 0.6910 - accuracy: 0.5603\n",
            "Epoch 1/20\n",
            "128/128 [==============================] - 3s 21ms/step - loss: 0.6922 - accuracy: 0.5322 - val_loss: 0.7041 - val_accuracy: 0.5141\n",
            "Epoch 2/20\n",
            "128/128 [==============================] - 3s 20ms/step - loss: 0.6897 - accuracy: 0.5448 - val_loss: 0.6989 - val_accuracy: 0.5204\n",
            "Epoch 3/20\n",
            "128/128 [==============================] - 2s 19ms/step - loss: 4.5705 - accuracy: 0.5425 - val_loss: 0.6990 - val_accuracy: 0.5141\n",
            "Epoch 4/20\n",
            "128/128 [==============================] - 2s 19ms/step - loss: 0.6887 - accuracy: 0.5417 - val_loss: 0.6998 - val_accuracy: 0.5172\n",
            "Epoch 5/20\n",
            "128/128 [==============================] - 2s 19ms/step - loss: 0.6878 - accuracy: 0.5448 - val_loss: 0.6991 - val_accuracy: 0.5141\n",
            "Epoch 6/20\n",
            "128/128 [==============================] - 2s 19ms/step - loss: 0.6888 - accuracy: 0.5417 - val_loss: 0.6984 - val_accuracy: 0.5141\n",
            "Epoch 7/20\n",
            "128/128 [==============================] - 2s 19ms/step - loss: 0.6883 - accuracy: 0.5448 - val_loss: 0.6990 - val_accuracy: 0.5141\n",
            "Epoch 8/20\n",
            "128/128 [==============================] - 2s 19ms/step - loss: 0.6883 - accuracy: 0.5440 - val_loss: 0.6996 - val_accuracy: 0.5141\n",
            "Epoch 9/20\n",
            "128/128 [==============================] - 2s 19ms/step - loss: 0.6883 - accuracy: 0.5417 - val_loss: 0.6982 - val_accuracy: 0.5141\n",
            "Epoch 10/20\n",
            "128/128 [==============================] - 2s 19ms/step - loss: 0.6876 - accuracy: 0.5417 - val_loss: 0.7014 - val_accuracy: 0.5141\n",
            "Epoch 11/20\n",
            "128/128 [==============================] - 2s 18ms/step - loss: 0.6876 - accuracy: 0.5409 - val_loss: 0.7007 - val_accuracy: 0.5141\n",
            "Epoch 12/20\n",
            "128/128 [==============================] - 2s 19ms/step - loss: 0.6895 - accuracy: 0.5409 - val_loss: 0.6994 - val_accuracy: 0.5141\n",
            "Epoch 13/20\n",
            "128/128 [==============================] - 2s 18ms/step - loss: 0.6869 - accuracy: 0.5440 - val_loss: 0.6986 - val_accuracy: 0.5141\n",
            "Epoch 14/20\n",
            "128/128 [==============================] - 3s 20ms/step - loss: 0.6879 - accuracy: 0.5417 - val_loss: 0.6995 - val_accuracy: 0.5141\n",
            "Epoch 15/20\n",
            "128/128 [==============================] - 2s 20ms/step - loss: 0.6872 - accuracy: 0.5425 - val_loss: 0.6986 - val_accuracy: 0.5141\n",
            "Epoch 16/20\n",
            "128/128 [==============================] - 2s 19ms/step - loss: 0.6877 - accuracy: 0.5401 - val_loss: 0.6990 - val_accuracy: 0.5141\n",
            "Epoch 17/20\n",
            "128/128 [==============================] - 2s 19ms/step - loss: 0.6874 - accuracy: 0.5409 - val_loss: 0.7010 - val_accuracy: 0.5141\n",
            "Epoch 18/20\n",
            "128/128 [==============================] - 2s 19ms/step - loss: 0.6864 - accuracy: 0.5409 - val_loss: 0.6988 - val_accuracy: 0.5172\n",
            "Epoch 19/20\n",
            "128/128 [==============================] - 2s 19ms/step - loss: 0.6871 - accuracy: 0.5409 - val_loss: 0.6980 - val_accuracy: 0.5141\n",
            "Epoch 20/20\n",
            "128/128 [==============================] - 2s 19ms/step - loss: 0.6875 - accuracy: 0.5393 - val_loss: 0.6990 - val_accuracy: 0.5141\n",
            "13/13 [==============================] - 0s 5ms/step - loss: 0.6930 - accuracy: 0.5276\n",
            "Epoch 1/20\n",
            "128/128 [==============================] - 3s 20ms/step - loss: 0.7009 - accuracy: 0.5118 - val_loss: 0.6988 - val_accuracy: 0.5172\n",
            "Epoch 2/20\n",
            "128/128 [==============================] - 2s 19ms/step - loss: 0.6924 - accuracy: 0.5197 - val_loss: 0.6982 - val_accuracy: 0.5078\n",
            "Epoch 3/20\n",
            "128/128 [==============================] - 2s 19ms/step - loss: 0.6913 - accuracy: 0.5385 - val_loss: 0.6992 - val_accuracy: 0.5141\n",
            "Epoch 4/20\n",
            "128/128 [==============================] - 2s 19ms/step - loss: 0.6916 - accuracy: 0.5283 - val_loss: 0.6967 - val_accuracy: 0.5141\n",
            "Epoch 5/20\n",
            "128/128 [==============================] - 2s 19ms/step - loss: 0.6912 - accuracy: 0.5440 - val_loss: 0.7002 - val_accuracy: 0.5110\n",
            "Epoch 6/20\n",
            "128/128 [==============================] - 3s 20ms/step - loss: 0.6906 - accuracy: 0.5338 - val_loss: 0.6982 - val_accuracy: 0.5141\n",
            "Epoch 7/20\n",
            "128/128 [==============================] - 2s 18ms/step - loss: 0.6896 - accuracy: 0.5362 - val_loss: 0.6999 - val_accuracy: 0.5141\n",
            "Epoch 8/20\n",
            "128/128 [==============================] - 2s 19ms/step - loss: 0.6897 - accuracy: 0.5377 - val_loss: 0.6969 - val_accuracy: 0.4984\n",
            "Epoch 9/20\n",
            "128/128 [==============================] - 2s 19ms/step - loss: 0.6893 - accuracy: 0.5346 - val_loss: 0.7014 - val_accuracy: 0.5078\n",
            "Epoch 10/20\n",
            "128/128 [==============================] - 2s 19ms/step - loss: 0.6908 - accuracy: 0.5432 - val_loss: 0.7001 - val_accuracy: 0.5110\n",
            "Epoch 11/20\n",
            "128/128 [==============================] - 2s 18ms/step - loss: 0.6900 - accuracy: 0.5283 - val_loss: 0.7000 - val_accuracy: 0.5110\n",
            "Epoch 12/20\n",
            "128/128 [==============================] - 2s 19ms/step - loss: 0.6894 - accuracy: 0.5409 - val_loss: 0.6991 - val_accuracy: 0.5047\n",
            "Epoch 13/20\n",
            "128/128 [==============================] - 2s 19ms/step - loss: 0.6892 - accuracy: 0.5393 - val_loss: 0.7009 - val_accuracy: 0.5110\n",
            "Epoch 14/20\n",
            "128/128 [==============================] - 2s 19ms/step - loss: 0.6877 - accuracy: 0.5417 - val_loss: 0.7024 - val_accuracy: 0.5141\n",
            "Epoch 15/20\n",
            "128/128 [==============================] - 2s 19ms/step - loss: 0.6876 - accuracy: 0.5393 - val_loss: 0.6994 - val_accuracy: 0.5016\n",
            "Epoch 16/20\n",
            "128/128 [==============================] - 2s 19ms/step - loss: 0.6879 - accuracy: 0.5409 - val_loss: 0.7027 - val_accuracy: 0.5078\n",
            "Epoch 17/20\n",
            "128/128 [==============================] - 2s 19ms/step - loss: 0.6875 - accuracy: 0.5369 - val_loss: 0.7029 - val_accuracy: 0.5078\n",
            "Epoch 18/20\n",
            "128/128 [==============================] - 3s 20ms/step - loss: 0.6861 - accuracy: 0.5464 - val_loss: 0.7031 - val_accuracy: 0.5172\n",
            "Epoch 19/20\n",
            "128/128 [==============================] - 2s 19ms/step - loss: 0.6861 - accuracy: 0.5385 - val_loss: 0.7012 - val_accuracy: 0.4890\n",
            "Epoch 20/20\n",
            "128/128 [==============================] - 2s 19ms/step - loss: 0.6859 - accuracy: 0.5519 - val_loss: 0.7038 - val_accuracy: 0.5141\n",
            "13/13 [==============================] - 0s 6ms/step - loss: 0.7061 - accuracy: 0.5251\n",
            "Epoch 1/20\n",
            "128/128 [==============================] - 3s 21ms/step - loss: 0.7150 - accuracy: 0.5365 - val_loss: 0.6912 - val_accuracy: 0.5643\n",
            "Epoch 2/20\n",
            "128/128 [==============================] - 2s 18ms/step - loss: 0.6964 - accuracy: 0.5326 - val_loss: 0.6930 - val_accuracy: 0.5643\n",
            "Epoch 3/20\n",
            "128/128 [==============================] - 2s 19ms/step - loss: 0.6916 - accuracy: 0.5357 - val_loss: 0.7108 - val_accuracy: 0.5580\n",
            "Epoch 4/20\n",
            "128/128 [==============================] - 2s 19ms/step - loss: 0.6919 - accuracy: 0.5350 - val_loss: 0.6885 - val_accuracy: 0.5643\n",
            "Epoch 5/20\n",
            "128/128 [==============================] - 2s 18ms/step - loss: 0.6901 - accuracy: 0.5373 - val_loss: 0.6874 - val_accuracy: 0.5643\n",
            "Epoch 6/20\n",
            "128/128 [==============================] - 2s 19ms/step - loss: 0.6913 - accuracy: 0.5247 - val_loss: 0.6879 - val_accuracy: 0.5705\n",
            "Epoch 7/20\n",
            "128/128 [==============================] - 2s 19ms/step - loss: 0.6901 - accuracy: 0.5428 - val_loss: 0.6876 - val_accuracy: 0.5674\n",
            "Epoch 8/20\n",
            "128/128 [==============================] - 2s 19ms/step - loss: 0.6884 - accuracy: 0.5460 - val_loss: 0.6878 - val_accuracy: 0.5674\n",
            "Epoch 9/20\n",
            "128/128 [==============================] - 2s 19ms/step - loss: 0.6901 - accuracy: 0.5357 - val_loss: 0.6878 - val_accuracy: 0.5643\n",
            "Epoch 10/20\n",
            "128/128 [==============================] - 2s 19ms/step - loss: 0.6886 - accuracy: 0.5515 - val_loss: 0.6878 - val_accuracy: 0.5611\n",
            "Epoch 11/20\n",
            "128/128 [==============================] - 2s 19ms/step - loss: 0.6894 - accuracy: 0.5365 - val_loss: 0.6855 - val_accuracy: 0.5643\n",
            "Epoch 12/20\n",
            "128/128 [==============================] - 2s 19ms/step - loss: 0.6904 - accuracy: 0.5350 - val_loss: 0.6893 - val_accuracy: 0.5423\n",
            "Epoch 13/20\n",
            "128/128 [==============================] - 2s 19ms/step - loss: 0.6881 - accuracy: 0.5467 - val_loss: 0.6869 - val_accuracy: 0.5674\n",
            "Epoch 14/20\n",
            "128/128 [==============================] - 2s 19ms/step - loss: 0.6870 - accuracy: 0.5334 - val_loss: 0.6884 - val_accuracy: 0.5674\n",
            "Epoch 15/20\n",
            "128/128 [==============================] - 2s 19ms/step - loss: 0.6875 - accuracy: 0.5530 - val_loss: 0.6868 - val_accuracy: 0.5611\n",
            "Epoch 16/20\n",
            "128/128 [==============================] - 2s 18ms/step - loss: 0.6883 - accuracy: 0.5452 - val_loss: 0.7020 - val_accuracy: 0.5078\n",
            "Epoch 17/20\n",
            "128/128 [==============================] - 2s 19ms/step - loss: 0.6893 - accuracy: 0.5554 - val_loss: 0.6882 - val_accuracy: 0.5580\n",
            "Epoch 18/20\n",
            "128/128 [==============================] - 2s 19ms/step - loss: 0.6886 - accuracy: 0.5436 - val_loss: 0.6915 - val_accuracy: 0.5423\n",
            "Epoch 19/20\n",
            "128/128 [==============================] - 2s 19ms/step - loss: 0.6872 - accuracy: 0.5507 - val_loss: 0.6911 - val_accuracy: 0.5329\n",
            "Epoch 20/20\n",
            "128/128 [==============================] - 2s 19ms/step - loss: 0.6861 - accuracy: 0.5365 - val_loss: 0.6877 - val_accuracy: 0.5611\n",
            "13/13 [==============================] - 0s 5ms/step - loss: 0.7055 - accuracy: 0.4987\n",
            " TEST mean score with std error: 0.5273862957954407 0.0003828545596354615\n"
          ],
          "name": "stdout"
        }
      ]
    }
  ]
}